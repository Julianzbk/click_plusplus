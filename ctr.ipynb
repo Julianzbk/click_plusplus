{
 "cells": [
  {
   "cell_type": "code",
   "execution_count": 1,
   "id": "5310c2ad",
   "metadata": {},
   "outputs": [],
   "source": [
    "import numpy as np\n",
    "import csv\n",
    "\n",
    "import matplotlib.pyplot as plt\n",
    "seed = 1234"
   ]
  },
  {
   "cell_type": "code",
   "execution_count": 2,
   "id": "75c0f6f3",
   "metadata": {},
   "outputs": [],
   "source": [
    "import pandas as pd\n",
    "\n",
    "df = pd.read_csv(\"./train.csv\", low_memory=False)\n",
    "train = df.to_numpy()\n",
    "df = pd.read_csv(\"./test.csv\", low_memory=False)\n",
    "test = df.to_numpy()\n",
    "\n",
    "# reader = csv.reader(test_file)"
   ]
  },
  {
   "cell_type": "code",
   "execution_count": 3,
   "id": "ed3b736e",
   "metadata": {},
   "outputs": [],
   "source": [
    "y_tr = train[:, 1]\n",
    "X_tr = train[:, 2:]\n",
    "y_te = test[:, 0]\n",
    "X_te = test[:, 1:]"
   ]
  },
  {
   "cell_type": "code",
   "execution_count": 4,
   "id": "e15bc215",
   "metadata": {},
   "outputs": [],
   "source": [
    "hex_to_int = np.vectorize(lambda x: int(x, 16))\n",
    "X_tr[:, 3:12] = hex_to_int(X_tr[:, 3:12])"
   ]
  },
  {
   "cell_type": "code",
   "execution_count": null,
   "id": "4a667ef5",
   "metadata": {},
   "outputs": [
    {
     "data": {
      "text/plain": [
       "(40428967,)"
      ]
     },
     "execution_count": 6,
     "metadata": {},
     "output_type": "execute_result"
    }
   ],
   "source": []
  },
  {
   "cell_type": "code",
   "execution_count": null,
   "id": "035d0463",
   "metadata": {},
   "outputs": [],
   "source": [
    "from sklearn.linear_model import SGDClassifier\n",
    "model = SGDClassifier(loss=\"log_loss\", alpha=0.01, max_iter=1000, early_stopping=True)\n",
    "model.fit(X_tr.astype(np.int64), y_tr.astype(np.int64))"
   ]
  }
 ],
 "metadata": {
  "kernelspec": {
   "display_name": ".venv",
   "language": "python",
   "name": "python3"
  },
  "language_info": {
   "codemirror_mode": {
    "name": "ipython",
    "version": 3
   },
   "file_extension": ".py",
   "mimetype": "text/x-python",
   "name": "python",
   "nbconvert_exporter": "python",
   "pygments_lexer": "ipython3",
   "version": "3.11.5"
  }
 },
 "nbformat": 4,
 "nbformat_minor": 5
}
