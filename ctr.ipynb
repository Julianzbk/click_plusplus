{
 "cells": [
  {
   "cell_type": "code",
   "execution_count": 1,
   "id": "5310c2ad",
   "metadata": {},
   "outputs": [],
   "source": [
    "import numpy as np\n",
    "import csv\n",
    "\n",
    "import matplotlib.pyplot as plt\n",
    "seed = 1234"
   ]
  },
  {
   "cell_type": "code",
   "execution_count": 2,
   "id": "75c0f6f3",
   "metadata": {},
   "outputs": [],
   "source": [
    "import pandas as pd\n",
    "\n",
    "df = pd.read_csv(\"./train.csv\", low_memory=False)\n",
    "train = df.to_numpy()\n",
    "df = pd.read_csv(\"./test.csv\", low_memory=False)\n",
    "test = df.to_numpy()\n",
    "\n",
    "# reader = csv.reader(test_file)"
   ]
  },
  {
   "cell_type": "code",
   "execution_count": null,
   "id": "ed3b736e",
   "metadata": {},
   "outputs": [],
   "source": [
    "y_tr = train[:, 1]\n",
    "X_tr = train[:, 2:]\n",
    "y_te = test[:, 0]\n",
    "X_te = test[:, 1:]"
   ]
  },
  {
   "cell_type": "code",
   "execution_count": null,
   "id": "e15bc215",
   "metadata": {},
   "outputs": [
    {
     "name": "stdout",
     "output_type": "stream",
     "text": [
      "[['1fbe01fe' 'f3845767' '28905ebd' ... 'a99f214a' 'ddd2926e' '44956a24']\n",
      " ['1fbe01fe' 'f3845767' '28905ebd' ... 'a99f214a' '96809ac8' '711ee120']\n",
      " ['1fbe01fe' 'f3845767' '28905ebd' ... 'a99f214a' 'b3cf8def' '8a4875bd']\n",
      " ...\n",
      " ['f61eaaae' '6b59f079' 'f028772b' ... 'a99f214a' '47e5bb5b' '2cd8ff6d']\n",
      " ['85f751fd' 'c4e18dd6' '50e219e0' ... '454877d9' '2dfaa2fb' 'f063b808']\n",
      " ['1fbe01fe' 'f3845767' '28905ebd' ... 'a99f214a' '372c853c' '711ee120']]\n"
     ]
    }
   ],
   "source": [
    "hex_to_int = np.vectorize(lambda x: int(x, 16))\n",
    "X_tr[:, 3:12] = hex_to_int(X_tr[:, 3:12])"
   ]
  },
  {
   "cell_type": "code",
   "execution_count": null,
   "id": "4a667ef5",
   "metadata": {},
   "outputs": [
    {
     "data": {
      "text/plain": [
       "array([[0],\n",
       "       [0],\n",
       "       [0],\n",
       "       ...,\n",
       "       [0],\n",
       "       [1],\n",
       "       [0]], shape=(40428967, 1), dtype=object)"
      ]
     },
     "execution_count": 53,
     "metadata": {},
     "output_type": "execute_result"
    }
   ],
   "source": []
  },
  {
   "cell_type": "code",
   "execution_count": null,
   "id": "035d0463",
   "metadata": {},
   "outputs": [
    {
     "name": "stderr",
     "output_type": "stream",
     "text": [
      "c:\\Users\\julia\\Documents\\Workspace\\CS178\\.venv\\Lib\\site-packages\\sklearn\\utils\\validation.py:1408: DataConversionWarning: A column-vector y was passed when a 1d array was expected. Please change the shape of y to (n_samples, ), for example using ravel().\n",
      "  y = column_or_1d(y, warn=True)\n"
     ]
    }
   ],
   "source": [
    "from sklearn.linear_model import SGDClassifier\n",
    "model = SGDClassifier(loss=\"log_loss\", alpha=0.001, max_iter=1000)\n",
    "model.fit(X_tr.astype(np.int64), y_tr.astype(np.int64))"
   ]
  }
 ],
 "metadata": {
  "kernelspec": {
   "display_name": ".venv",
   "language": "python",
   "name": "python3"
  },
  "language_info": {
   "codemirror_mode": {
    "name": "ipython",
    "version": 3
   },
   "file_extension": ".py",
   "mimetype": "text/x-python",
   "name": "python",
   "nbconvert_exporter": "python",
   "pygments_lexer": "ipython3",
   "version": "3.11.5"
  }
 },
 "nbformat": 4,
 "nbformat_minor": 5
}
